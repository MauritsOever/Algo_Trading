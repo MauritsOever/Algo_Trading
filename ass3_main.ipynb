{
 "cells": [
  {
   "cell_type": "markdown",
   "metadata": {},
   "source": [
    "# Algorithmic Trading - Assignment 3"
   ]
  },
  {
   "cell_type": "code",
   "execution_count": 1,
   "metadata": {},
   "outputs": [],
   "source": [
    "# load in appropriate packages\n",
    "import pandas as pd\n",
    "import numpy as np"
   ]
  },
  {
   "cell_type": "code",
   "execution_count": 2,
   "metadata": {},
   "outputs": [],
   "source": [
    "# load in and prepare data\n",
    "data_train = pd.read_csv('Bond_MidModelTraining.csv')\n",
    "data_test  = pd.read_csv('Bond_QuoteLive.csv')\n",
    "\n",
    "data_train = data_train.ffill()\n",
    "data_train = data_train.bfill() # because the first entry in some columns is a nan too\n",
    "\n",
    "data_test = data_test.ffill()\n",
    "#data_test = data_test.bfill() # same for the test set\n",
    "\n",
    "# check if both sets are ordered properly by epochhours\n",
    "#if data_train.iloc[:,0] == data_train.sort_values(0)\n",
    "\n",
    "if not np.all(data_train.sort_values('epochhours').index == data_train.index):\n",
    "    data_train = data_train.sort_values('epochhours', ignore_index=True)\n",
    "\n",
    "if not np.all(data_test.sort_values('epochhours').index == data_test.index):\n",
    "    data_test = data_test.sort_values('epochhours', ignore_index = True)"
   ]
  },
  {
   "cell_type": "code",
   "execution_count": 3,
   "metadata": {},
   "outputs": [
    {
     "data": {
      "text/html": [
       "<div>\n",
       "<style scoped>\n",
       "    .dataframe tbody tr th:only-of-type {\n",
       "        vertical-align: middle;\n",
       "    }\n",
       "\n",
       "    .dataframe tbody tr th {\n",
       "        vertical-align: top;\n",
       "    }\n",
       "\n",
       "    .dataframe thead th {\n",
       "        text-align: right;\n",
       "    }\n",
       "</style>\n",
       "<table border=\"1\" class=\"dataframe\">\n",
       "  <thead>\n",
       "    <tr style=\"text-align: right;\">\n",
       "      <th></th>\n",
       "      <th>epochhours</th>\n",
       "      <th>last_price</th>\n",
       "      <th>firm_executable_bid</th>\n",
       "      <th>firm_executable_ask</th>\n",
       "      <th>market_estimate_bid</th>\n",
       "      <th>market_estimate_ask</th>\n",
       "    </tr>\n",
       "  </thead>\n",
       "  <tbody>\n",
       "    <tr>\n",
       "      <th>0</th>\n",
       "      <td>1603087200</td>\n",
       "      <td>122.6405</td>\n",
       "      <td>122.335739</td>\n",
       "      <td>122.960435</td>\n",
       "      <td>122.314000</td>\n",
       "      <td>122.941544</td>\n",
       "    </tr>\n",
       "    <tr>\n",
       "      <th>1</th>\n",
       "      <td>1603087200</td>\n",
       "      <td>122.6405</td>\n",
       "      <td>122.335739</td>\n",
       "      <td>122.960435</td>\n",
       "      <td>122.314000</td>\n",
       "      <td>122.941544</td>\n",
       "    </tr>\n",
       "    <tr>\n",
       "      <th>2</th>\n",
       "      <td>1603090800</td>\n",
       "      <td>122.6405</td>\n",
       "      <td>122.374000</td>\n",
       "      <td>122.994429</td>\n",
       "      <td>122.314000</td>\n",
       "      <td>122.941544</td>\n",
       "    </tr>\n",
       "    <tr>\n",
       "      <th>3</th>\n",
       "      <td>1603090800</td>\n",
       "      <td>122.6405</td>\n",
       "      <td>122.374000</td>\n",
       "      <td>122.994429</td>\n",
       "      <td>122.288552</td>\n",
       "      <td>122.912063</td>\n",
       "    </tr>\n",
       "    <tr>\n",
       "      <th>4</th>\n",
       "      <td>1603094400</td>\n",
       "      <td>122.6405</td>\n",
       "      <td>122.374000</td>\n",
       "      <td>122.994429</td>\n",
       "      <td>122.386577</td>\n",
       "      <td>123.009203</td>\n",
       "    </tr>\n",
       "  </tbody>\n",
       "</table>\n",
       "</div>"
      ],
      "text/plain": [
       "   epochhours  last_price  firm_executable_bid  firm_executable_ask  \\\n",
       "0  1603087200    122.6405           122.335739           122.960435   \n",
       "1  1603087200    122.6405           122.335739           122.960435   \n",
       "2  1603090800    122.6405           122.374000           122.994429   \n",
       "3  1603090800    122.6405           122.374000           122.994429   \n",
       "4  1603094400    122.6405           122.374000           122.994429   \n",
       "\n",
       "   market_estimate_bid  market_estimate_ask  \n",
       "0           122.314000           122.941544  \n",
       "1           122.314000           122.941544  \n",
       "2           122.314000           122.941544  \n",
       "3           122.288552           122.912063  \n",
       "4           122.386577           123.009203  "
      ]
     },
     "execution_count": 3,
     "metadata": {},
     "output_type": "execute_result"
    }
   ],
   "source": [
    "data_train.head()"
   ]
  },
  {
   "cell_type": "code",
   "execution_count": null,
   "metadata": {},
   "outputs": [],
   "source": [
    "np.all(data_train.index == data_train.sort_values('epochhours').index)\n",
    "np.all(data_test.index == data_test.sort_values('epochhours').index)"
   ]
  },
  {
   "cell_type": "markdown",
   "metadata": {},
   "source": [
    "Now that the data is loaded in and the NaN's are taken care of, we can properly start the assignment"
   ]
  },
  {
   "cell_type": "code",
   "execution_count": null,
   "metadata": {},
   "outputs": [],
   "source": []
  }
 ],
 "metadata": {
  "kernelspec": {
   "display_name": "Python 3",
   "language": "python",
   "name": "python3"
  },
  "language_info": {
   "codemirror_mode": {
    "name": "ipython",
    "version": 3
   },
   "file_extension": ".py",
   "mimetype": "text/x-python",
   "name": "python",
   "nbconvert_exporter": "python",
   "pygments_lexer": "ipython3",
   "version": "3.9.1"
  }
 },
 "nbformat": 4,
 "nbformat_minor": 2
}
