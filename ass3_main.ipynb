{
 "cells": [
  {
   "cell_type": "markdown",
   "metadata": {},
   "source": [
    "# Algorithmic Trading - Assignment 3"
   ]
  },
  {
   "cell_type": "code",
   "execution_count": 1,
   "metadata": {},
   "outputs": [
    {
     "name": "stdout",
     "output_type": "stream",
     "text": [
      "setup complete\n"
     ]
    }
   ],
   "source": [
    "# load in appropriate packages\n",
    "import os\n",
    "import pandas as pd\n",
    "from matplotlib import pyplot as plt\n",
    "import numpy as np\n",
    "\n",
    "from sklearn.ensemble import RandomForestRegressor\n",
    "from sklearn.model_selection import cross_val_score\n",
    "from sklearn.model_selection import RepeatedKFold\n",
    "from sklearn.model_selection import RandomizedSearchCV\n",
    "print('setup complete')"
   ]
  },
  {
   "cell_type": "code",
   "execution_count": 10,
   "metadata": {},
   "outputs": [],
   "source": [
    "class Assignment3():\n",
    "\n",
    "    def __init__(self, train_data_file, test_data_file):\n",
    "\n",
    "        self.train_data = pd.read_csv(train_data_file)\n",
    "        self.test_data = pd.read_csv(test_data_file)\n",
    "\n",
    "    @classmethod\n",
    "    def evaluate(cls, model, test_features, test_labels):\n",
    "\n",
    "            predictions = model.predict(test_features)\n",
    "\n",
    "            absolute_errors = abs(predictions - test_labels)\n",
    "            mae = np.mean(absolute_errors)\n",
    "            print('Mean Absolute Error: {:0.4f}'.format(mae))\n",
    "\n",
    "    def fill_na(self):\n",
    "\n",
    "        self.train_data = self.train_data.ffill()\n",
    "        self.train_data = self.train_data.bfill()\n",
    "        self.test_data = self.test_data.ffill()\n",
    "\n",
    "    def check_order(self, data):\n",
    "\n",
    "        if not np.all(data.sort_values('epochhours').index == data.index):\n",
    "\n",
    "            data = data.sort_values('epochhours')\n",
    "\n",
    "    def calculate_mids(self):\n",
    "\n",
    "        self.train_data['midDealerQuotes'] = (self.train_data['firm_executable_bid']\n",
    "                                              + self.train_data['firm_executable_ask']) / 2\n",
    "\n",
    "        self.train_data['midMarketEstimate'] = (self.train_data['market_estimate_bid']\n",
    "                                              + self.train_data['market_estimate_ask']) / 2\n",
    "\n",
    "        self.test_data['midDealerQuotes'] = (self.test_data['firm_executable_bid']\n",
    "                                              + self.test_data['firm_executable_ask']) / 2\n",
    "\n",
    "        self.test_data['midMarketEstimate'] = (self.test_data['market_estimate_bid']\n",
    "                                              + self.test_data['market_estimate_ask']) / 2\n",
    "    \n",
    "    def calculate_returns(self, data):\n",
    "        # LastPrice, midDealerQuotes, midMarketEstimate \n",
    "        data['LastPrice_rets'] = (data['last_price'] / data['last_price'].shift(1) -1) * 10000\n",
    "        data['midDealerQuotes_rets'] = (data['midDealerQuotes'] / data['midDealerQuotes'].shift(1) -1) * 10000\n",
    "        data['midMarketEstimate_rets'] = (data['midMarketEstimate'] / data['midMarketEstimate'].shift(1) -1) * 10000\n",
    "    \n",
    "    def make_matrices(self):\n",
    "        self.Y = np.array(self.train_data['LastPrice_rets'][1:])\n",
    "        self.X = np.ones((len(self.train_data)-1 , 3))\n",
    "        self.X[:,1] = self.train_data['midDealerQuotes_rets'][1:]\n",
    "        self.X[:,2] = self.train_data['midMarketEstimate_rets'][1:] \n",
    "        return\n",
    "    \n",
    "    def est_OLS(self):\n",
    "        self.betas = np.linalg.inv(self.X.T @ self.X) @ self.X.T @ self.Y\n",
    "        print('estimated betas are equal to')\n",
    "        print(f'constant                              = {round(self.betas[0], 4)}')\n",
    "        print(f'midDealerQuotes returns coefficient   = {round(self.betas[1], 4)}')\n",
    "        print(f'midMarketEstimate returns coefficient = {round(self.betas[2], 4)}')\n",
    "        \n",
    "        return \n",
    "    \n",
    "    def get_yhat(self):\n",
    "        self.yhat = self.X @ self.betas\n",
    "        return\n",
    "    \n",
    "    def get_r2(self):\n",
    "        self.r2 = 1 - np.sum( (self.Y - self.yhat)**2) / np.sum( (self.Y - np.mean(self.Y))**2)\n",
    "        print(f'R squared = {self.r2}')\n",
    "        return \n",
    "    \n",
    "    def get_MAE(self):\n",
    "        self.MAE = np.mean(abs(self.Y - self.yhat))\n",
    "        \n",
    "        print(f'MAE       = {self.MAE}')\n",
    "        return \n",
    "        \n",
    "        \n",
    "    def OLS_Q8(self):\n",
    "        X = np.array(self.train_data[[\n",
    "                'last_price'\n",
    "            ]].iloc[:-1,:])\n",
    "        \n",
    "        Y = np.array(self.train_data['last_price'].iloc[1:])\n",
    "        \n",
    "        betas = np.linalg.inv(X.T @ X) @ X.T @ Y\n",
    "        \n",
    "        print(f'betas are {betas}')\n",
    "        print()\n",
    "        \n",
    "        X_test = np.array(self.test_data[[\n",
    "                'last_price'\n",
    "            ]].iloc[0:-1, :])\n",
    "        \n",
    "        errors = self.test_data.iloc[1:, 1] - X_test @ betas\n",
    "        print(errors)\n",
    "        print()\n",
    "        \n",
    "        print(f'MAE of OLS question 8 = {np.mean(abs(errors))}')\n",
    "        \n",
    "    def flow_bid_and_ask(self):\n",
    "        \n",
    "        self.test_data.iloc[:, 7] = self.test_data.iloc[:, 6] * 1.001\n",
    "        self.test_data.iloc[:, 8] = self.test_data.iloc[:, 6] * 0.999\n",
    "        \n",
    "        plt.plot(range(len(self.test_data.iloc[1:, 8])), self.test_data.iloc[1:,8])\n",
    "        plt.plot(range(len(self.test_data.iloc[1:, 6])), self.test_data.iloc[1:,6])\n",
    "        plt.plot(range(len(self.test_data.iloc[1:, 7])), self.test_data.iloc[1:,7])\n",
    "        \n",
    "\n",
    "    def generate_plots(self):\n",
    "\n",
    "        # Create figure.\n",
    "        fig, axs = plt.subplots(2, 2, sharex = True, sharey = True, figsize=(6,6))\n",
    "\n",
    "        #fig.suptitle('Epoch Hours vs LastPrice, midDealerQuotes and midMarketEstimate')\n",
    "\n",
    "        axs[0, 0].set_ylabel('Value')\n",
    "        \n",
    "        axs[0, 0].plot(\n",
    "            self.train_data['epochhours'],\n",
    "            self.train_data['last_price'],\n",
    "            color = 'orange'\n",
    "        )\n",
    "        axs[0, 0].set_title(\"Last Price vs Epoch Hours\")\n",
    "\n",
    "        axs[0, 1].plot(\n",
    "            self.train_data['epochhours'],\n",
    "            self.train_data['midDealerQuotes'],\n",
    "            color = 'green'\n",
    "        )\n",
    "        axs[0, 1].set_title(\"midDealerQuotes vs Epoch Hours\")\n",
    "\n",
    "        axs[1, 0].plot(\n",
    "            self.train_data['epochhours'],\n",
    "            self.train_data['midMarketEstimate'],\n",
    "            color = 'blue'\n",
    "        )\n",
    "\n",
    "        axs[1, 0].set_title(\"midMarketEstimate vs Epoch Hours\")\n",
    "\n",
    "        axs[1, 0].set_xlabel('Epoch Hours')\n",
    "        axs[1, 0].set_ylabel('Value')\n",
    "\n",
    "        axs[1, 1].set_title(\"All vs Epoch Hours\")\n",
    "\n",
    "        axs[1, 1].set_xlabel('Epoch Hours')\n",
    "\n",
    "        axs[1, 1].plot(\n",
    "            self.train_data['epochhours'],\n",
    "            self.train_data['last_price'],\n",
    "            label = 'Last Price',\n",
    "            color = 'orange',\n",
    "            alpha = 0.5\n",
    "        )\n",
    "\n",
    "        axs[1, 1].plot(\n",
    "            self.train_data['epochhours'],\n",
    "            self.train_data['midDealerQuotes'],\n",
    "            label = 'midDealerQuotes',\n",
    "            color = 'green',\n",
    "            alpha = 0.3\n",
    "        )\n",
    "\n",
    "        axs[1, 1].plot(\n",
    "            self.train_data['epochhours'],\n",
    "            self.train_data['midMarketEstimate'],\n",
    "            label = 'midMarketEstimate',\n",
    "            color = 'blue',\n",
    "            alpha = 0.3\n",
    "        )\n",
    "        \n",
    "        \n",
    "        plt.tight_layout()\n",
    "        plt.legend()\n",
    "        plt.show()\n",
    "\n",
    "    def random_forest(self):\n",
    "\n",
    "        # Training features\n",
    "        x_train = self.train_data[[\n",
    "                'epochhours',\n",
    "                'firm_executable_bid',\n",
    "                'firm_executable_ask',\n",
    "                'market_estimate_bid',\n",
    "                'market_estimate_ask',\n",
    "                'midDealerQuotes',\n",
    "                'midMarketEstimate']].iloc[:-1,:]\n",
    "\n",
    "        # Training target variable.\n",
    "        y_train = self.train_data['last_price'].iloc[1:]\n",
    "\n",
    "        # Testing features\n",
    "        x_test = self.test_data[[\n",
    "                'epochhours',\n",
    "                'firm_executable_bid',\n",
    "                'firm_executable_ask',\n",
    "                'market_estimate_bid',\n",
    "                'market_estimate_ask',\n",
    "                'midDealerQuotes',\n",
    "                'midMarketEstimate'\n",
    "            ]].iloc[:-1,:]\n",
    "\n",
    "        # Testing true y.\n",
    "        y_test = self.test_data['last_price'].iloc[1:]\n",
    "\n",
    "        # Number of trees.\n",
    "        n_estimators = [int(x) for x in np.linspace(start = 100, stop = 500, num = 1)]\n",
    "\n",
    "        # Number of features at each split.\n",
    "        max_features = ['auto', 'sqrt']\n",
    "\n",
    "        # Maximum number of levels in tree.\n",
    "        max_depth = [int(x) for x in np.linspace(10, 110, num = 11)]\n",
    "        max_depth.append(None)\n",
    "\n",
    "        # Minimum number of samples to split.\n",
    "        min_samples_split = [2, 5, 10, 15]\n",
    "\n",
    "        # Minimum number of samples required at each leaf.\n",
    "        min_samples_leaf = [1, 2, 4, 6, 8]\n",
    "\n",
    "        # Method of selecting samples for training each tree.\n",
    "        bootstrap = [True, False]\n",
    "\n",
    "        # Create the random grid\n",
    "        random_grid = {'n_estimators': n_estimators,\n",
    "               'max_features': max_features,\n",
    "               'max_depth': max_depth,\n",
    "               'min_samples_split': min_samples_split,\n",
    "               'min_samples_leaf': min_samples_leaf,\n",
    "               'bootstrap': bootstrap\n",
    "        }\n",
    "\n",
    "        # Use the random grid to search for best hyperparameters\n",
    "        # First create the base model to tune\n",
    "        random_forest = RandomForestRegressor()\n",
    "\n",
    "        # Random search of parameters, using 3 fold cross validation, \n",
    "        # search across 100 different combinations, and use all available cores\n",
    "        random_forest_random_search = RandomizedSearchCV(\n",
    "            estimator = random_forest,\n",
    "            param_distributions = random_grid,\n",
    "            n_iter = 100,\n",
    "            cv = 3,\n",
    "            verbose = 2,\n",
    "            random_state = 42,\n",
    "            n_jobs = -1\n",
    "        )\n",
    "\n",
    "        # Fit the random search model\n",
    "        random_forest_random_search.fit(x_train, y_train)\n",
    "\n",
    "        # Compare base model and optimised random forest.\n",
    "        print('\\nBase model:')\n",
    "        base_model = RandomForestRegressor(n_estimators = 10, random_state = 42)\n",
    "        base_model.fit(x_train, y_train)\n",
    "        Assignment3.evaluate(base_model, x_test, y_test)\n",
    "\n",
    "        print('\\nBest Optimised model:')\n",
    "        best_random = random_forest_random_search.best_estimator_\n",
    "        Assignment3.evaluate(best_random, x_test, y_test)\n",
    "\n",
    "        # Put predicted last price in test dataframe\n",
    "        self.test_data.iloc[1:, 6] = best_random.predict(x_test)"
   ]
  },
  {
   "cell_type": "code",
   "execution_count": 11,
   "metadata": {},
   "outputs": [],
   "source": [
    "# Setup filepaths.\n",
    "# Get current working directory.\n",
    "cwd = os.curdir\n",
    "\n",
    "# Get data file paths.\n",
    "train_data_file = os.path.join(cwd, 'Bond_MidModelTraining.csv')\n",
    "test_data_file = os.path.join(cwd, 'Bond_QuoteLive.csv')\n",
    "\n",
    "# Instantiate Assignment3\n",
    "assignment = Assignment3(train_data_file, test_data_file)\n",
    "\n"
   ]
  },
  {
   "cell_type": "code",
   "execution_count": 12,
   "metadata": {},
   "outputs": [],
   "source": [
    "# Fill nans.\n",
    "assignment.fill_na()\n",
    "\n",
    "# check if both sets are ordered properly by epochhours\n",
    "assignment.check_order(assignment.train_data)\n",
    "assignment.check_order(assignment.test_data)\n",
    "\n",
    "# calculate mid prices\n",
    "assignment.calculate_mids()"
   ]
  },
  {
   "cell_type": "code",
   "execution_count": 13,
   "metadata": {},
   "outputs": [
    {
     "data": {
      "image/png": "[encoded data removed]",
      "text/plain": [
       "<Figure size 432x432 with 4 Axes>"
      ]
     },
     "metadata": {
      "needs_background": "light"
     },
     "output_type": "display_data"
    }
   ],
   "source": [
    "# fill in flow bid and ask\n",
    "assignment.generate_plots()"
   ]
  },
  {
   "cell_type": "code",
   "execution_count": 14,
   "metadata": {},
   "outputs": [],
   "source": [
    "# calculate returns\n",
    "assignment.calculate_returns(assignment.train_data)"
   ]
  },
  {
   "cell_type": "code",
   "execution_count": 15,
   "metadata": {},
   "outputs": [
    {
     "name": "stdout",
     "output_type": "stream",
     "text": [
      "estimated betas are equal to\n",
      "constant                              = 0.0498\n",
      "midDealerQuotes returns coefficient   = -0.0\n",
      "midMarketEstimate returns coefficient = -0.0001\n",
      "R squared = 4.4799695064767775e-09\n",
      "MAE       = 0.6517414190500652\n"
     ]
    }
   ],
   "source": [
    "# OLS here\n",
    "assignment.make_matrices()\n",
    "assignment.est_OLS() # estimate OLS using analytical solution\n",
    "assignment.get_yhat() # calculate the estimated Y\n",
    "assignment.get_r2() # calculate r2\n",
    "assignment.get_MAE() # calculate mean absolute error"
   ]
  },
  {
   "cell_type": "code",
   "execution_count": 16,
   "metadata": {},
   "outputs": [
    {
     "name": "stdout",
     "output_type": "stream",
     "text": [
      "betas are [1.00000457]\n",
      "\n",
      "1     -0.000572\n",
      "2     -0.000572\n",
      "3     -0.000572\n",
      "4     -0.000572\n",
      "5     -0.000572\n",
      "         ...   \n",
      "176   -0.000567\n",
      "177   -0.000567\n",
      "178   -0.000567\n",
      "179   -0.000567\n",
      "180   -0.000567\n",
      "Name: last_price, Length: 180, dtype: float64\n",
      "\n",
      "MAE of OLS question 8 = 0.007580859623584817\n"
     ]
    }
   ],
   "source": [
    "# OLS Q8\n",
    "assignment.OLS_Q8()"
   ]
  },
  {
   "cell_type": "code",
   "execution_count": 17,
   "metadata": {},
   "outputs": [
    {
     "name": "stdout",
     "output_type": "stream",
     "text": [
      "Fitting 3 folds for each of 100 candidates, totalling 300 fits\n",
      "\n",
      "Base model:\n",
      "Mean Absolute Error: 0.9848\n",
      "\n",
      "Best Optimised model:\n",
      "Mean Absolute Error: 0.1426\n"
     ]
    }
   ],
   "source": [
    "assignment.random_forest()"
   ]
  },
  {
   "cell_type": "code",
   "execution_count": 18,
   "metadata": {},
   "outputs": [
    {
     "data": {
      "image/png": "[encoded data removed]",
      "text/plain": [
       "<Figure size 432x288 with 1 Axes>"
      ]
     },
     "metadata": {
      "needs_background": "light"
     },
     "output_type": "display_data"
    }
   ],
   "source": [
    "assignment.flow_bid_and_ask()"
   ]
  },
  {
   "cell_type": "markdown",
   "metadata": {},
   "source": [
    "###### Question 8c"
   ]
  },
  {
   "cell_type": "markdown",
   "metadata": {},
   "source": [
    "###### Question 8d"
   ]
  },
  {
   "cell_type": "code",
   "execution_count": null,
   "metadata": {},
   "outputs": [],
   "source": []
  }
 ],
 "metadata": {
  "kernelspec": {
   "display_name": "Python 3",
   "language": "python",
   "name": "python3"
  },
  "language_info": {
   "codemirror_mode": {
    "name": "ipython",
    "version": 3
   },
   "file_extension": ".py",
   "mimetype": "text/x-python",
   "name": "python",
   "nbconvert_exporter": "python",
   "pygments_lexer": "ipython3",
   "version": "3.7.4"
  }
 },
 "nbformat": 4,
 "nbformat_minor": 2
}
