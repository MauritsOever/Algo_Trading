{
 "cells": [
  {
   "cell_type": "markdown",
   "metadata": {},
   "source": [
    "# Algorithmic Trading - Assignment 3"
   ]
  },
  {
   "cell_type": "code",
   "execution_count": 1,
   "metadata": {},
   "outputs": [],
   "source": [
    "# load in appropriate packages\n",
    "import pandas as pd\n",
    "import numpy as np"
   ]
  },
  {
   "cell_type": "code",
   "execution_count": 6,
   "metadata": {},
   "outputs": [],
   "source": [
    "# load in and prepare data\n",
    "data_train = pd.read_csv('Bond_MidModelTraining.csv')\n",
    "data_test  = pd.read_csv('Bond_QuoteLive.csv')\n",
    "\n",
    "data_train = data_train.ffill()\n",
    "data_train = data_train.bfill() # because the first entry in some columns is a nan too\n",
    "\n",
    "data_test = data_test.ffill()\n",
    "\n",
    "# check if both sets are ordered properly by epochhours\n",
    "\n",
    "if not np.all(data_train.sort_values('epochhours').index == data_train.index):\n",
    "    data_train = data_train.sort_values('epochhours')\n",
    "\n",
    "if not np.all(data_test.sort_values('epochhours').index == data_test.index):\n",
    "    data_test = data_test.sort_values('epochhours')"
   ]
  },
  {
   "cell_type": "code",
   "execution_count": 7,
   "metadata": {},
   "outputs": [
    {
     "data": {
      "text/plain": [
       "True"
      ]
     },
     "execution_count": 7,
     "metadata": {},
     "output_type": "execute_result"
    }
   ],
   "source": [
    "np.all(data_train.index == data_train.sort_values('epochhours').index)\n",
    "np.all(data_test.index == data_test.sort_values('epochhours').index)"
   ]
  },
  {
   "cell_type": "markdown",
   "metadata": {},
   "source": [
    "Now that the data is loaded in and the NaN's are taken care of, we can properly start the assignment"
   ]
  },
  {
   "cell_type": "code",
   "execution_count": null,
   "metadata": {},
   "outputs": [],
   "source": []
  }
 ],
 "metadata": {
  "kernelspec": {
   "display_name": "Python 3",
   "language": "python",
   "name": "python3"
  },
  "language_info": {
   "codemirror_mode": {
    "name": "ipython",
    "version": 3
   },
   "file_extension": ".py",
   "mimetype": "text/x-python",
   "name": "python",
   "nbconvert_exporter": "python",
   "pygments_lexer": "ipython3",
   "version": "3.7.4"
  }
 },
 "nbformat": 4,
 "nbformat_minor": 2
}
